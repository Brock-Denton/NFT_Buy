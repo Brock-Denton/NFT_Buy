{
 "cells": [
  {
   "cell_type": "markdown",
   "id": "ffa24c0e-cdff-4623-87fc-46b9c0f998b0",
   "metadata": {
    "tags": []
   },
   "source": [
    "# Supervised Learning Classification Model - Testing if change in one day average price and seven day average can predict whether NFT price increases"
   ]
  },
  {
   "cell_type": "markdown",
   "id": "a06199ba-4a41-4d86-88ab-f6f51fc712c6",
   "metadata": {},
   "source": [
    "## Imports"
   ]
  },
  {
   "cell_type": "markdown",
   "id": "a817f79a-5b6a-4216-b910-01346a893d1b",
   "metadata": {},
   "source": [
    "Making the necessary imports"
   ]
  },
  {
   "cell_type": "code",
   "execution_count": 30,
   "id": "5699b1d0-b162-4124-bca8-e361211a210c",
   "metadata": {},
   "outputs": [],
   "source": [
    "import pandas as pd \n",
    "import os \n",
    "from dotenv import load_dotenv\n",
    "import requests \n",
    "import json \n",
    "from pathlib import Path\n",
    "from sklearn.model_selection import train_test_split\n",
    "import matplotlib.pyplot as plt\n",
    "from imblearn.metrics import classification_report_imbalanced\n",
    "from sklearn.metrics import accuracy_score, classification_report\n",
    "from sklearn.linear_model import LogisticRegression\n",
    "import numpy as np\n",
    "from sklearn.metrics import confusion_matrix\n",
    "from sklearn.preprocessing import StandardScaler\n"
   ]
  },
  {
   "cell_type": "markdown",
   "id": "fc293ac2-9c82-4f0a-9f63-58329f36e029",
   "metadata": {},
   "source": [
    "## Importing the API"
   ]
  },
  {
   "cell_type": "markdown",
   "id": "3646ae63-068f-4a17-8453-de1f9e3341d7",
   "metadata": {},
   "source": [
    "See if the .env file is working correctly"
   ]
  },
  {
   "cell_type": "code",
   "execution_count": 31,
   "id": "93cafec9-2a2f-478e-93a6-d7fded45ecf2",
   "metadata": {},
   "outputs": [
    {
     "data": {
      "text/plain": [
       "True"
      ]
     },
     "execution_count": 31,
     "metadata": {},
     "output_type": "execute_result"
    }
   ],
   "source": [
    "load_dotenv()"
   ]
  },
  {
   "cell_type": "code",
   "execution_count": 32,
   "id": "e75a5c24-45d5-4274-b67f-39f4e2b2fdfb",
   "metadata": {},
   "outputs": [],
   "source": [
    "api_key = os.getenv('BLOCKSPAN_API_KEY')"
   ]
  },
  {
   "cell_type": "markdown",
   "id": "216894b9-bfa6-4a1d-8ab9-e8df6a21091b",
   "metadata": {},
   "source": [
    "Retrieve the API and gather the data in a data frame."
   ]
  },
  {
   "cell_type": "code",
   "execution_count": 33,
   "id": "87288059-0121-4d11-847d-b6d0b83d349a",
   "metadata": {},
   "outputs": [],
   "source": [
    "url = \"https://api.blockspan.com/v1/exchanges/collectionsranking?chain=eth-main&exchange=opensea&ranking=seven_day_volume&page_size=100\"\n",
    "headers = {\n",
    "    \"accept\": \"application/json\",\n",
    "    \"X-API-KEY\": api_key\n",
    "}"
   ]
  },
  {
   "cell_type": "code",
   "execution_count": 34,
   "id": "886afb9a-4ccf-4db3-b00e-33db1e8f9e9d",
   "metadata": {},
   "outputs": [],
   "source": [
    "response = requests.get(url, headers=headers).json()\n",
    "#print(json.dumps(response, indent=4, sort_keys=True))"
   ]
  },
  {
   "cell_type": "code",
   "execution_count": 35,
   "id": "06e5677b-8791-42e2-ad47-7a07e6560a93",
   "metadata": {},
   "outputs": [
    {
     "data": {
      "text/html": [
       "<div>\n",
       "<style scoped>\n",
       "    .dataframe tbody tr th:only-of-type {\n",
       "        vertical-align: middle;\n",
       "    }\n",
       "\n",
       "    .dataframe tbody tr th {\n",
       "        vertical-align: top;\n",
       "    }\n",
       "\n",
       "    .dataframe thead th {\n",
       "        text-align: right;\n",
       "    }\n",
       "</style>\n",
       "<table border=\"1\" class=\"dataframe\">\n",
       "  <thead>\n",
       "    <tr style=\"text-align: right;\">\n",
       "      <th></th>\n",
       "      <th>key</th>\n",
       "      <th>name</th>\n",
       "      <th>description</th>\n",
       "      <th>update_at</th>\n",
       "      <th>total_volume</th>\n",
       "      <th>one_day_volume</th>\n",
       "      <th>seven_day_volume</th>\n",
       "      <th>thirty_day_volume</th>\n",
       "      <th>total_sales</th>\n",
       "      <th>one_day_sales</th>\n",
       "      <th>seven_day_sales</th>\n",
       "      <th>thirty_day_sales</th>\n",
       "      <th>total_average_price</th>\n",
       "      <th>one_day_average_price</th>\n",
       "      <th>seven_day_average_price</th>\n",
       "      <th>thirty_day_average_price</th>\n",
       "      <th>contracts</th>\n",
       "    </tr>\n",
       "  </thead>\n",
       "  <tbody>\n",
       "    <tr>\n",
       "      <th>0</th>\n",
       "      <td>valhalla</td>\n",
       "      <td>Valhalla</td>\n",
       "      <td>Valhalla is a crypto native brand for gamers. ...</td>\n",
       "      <td>2022-12-16T18:31:57.807Z</td>\n",
       "      <td>10527.495070783985</td>\n",
       "      <td>348.3021329999999</td>\n",
       "      <td>4174.1911596468235</td>\n",
       "      <td>10527.495070783962</td>\n",
       "      <td>11696</td>\n",
       "      <td>274</td>\n",
       "      <td>3289</td>\n",
       "      <td>11696</td>\n",
       "      <td>0.9000936278030083</td>\n",
       "      <td>1.2711756678832113</td>\n",
       "      <td>1.269136868241661</td>\n",
       "      <td>0.9000936278030063</td>\n",
       "      <td>[{'contract_address': '0x231d3559aa848bf10366f...</td>\n",
       "    </tr>\n",
       "    <tr>\n",
       "      <th>1</th>\n",
       "      <td>art-blocks</td>\n",
       "      <td>Art Blocks</td>\n",
       "      <td>Art Blocks is dedicated to bringing compelling...</td>\n",
       "      <td>2022-12-15T19:49:23.602Z</td>\n",
       "      <td>463304.69361787103</td>\n",
       "      <td>281.12792500000006</td>\n",
       "      <td>2136.789362268989</td>\n",
       "      <td>9127.35848823819</td>\n",
       "      <td>207755</td>\n",
       "      <td>200</td>\n",
       "      <td>1662</td>\n",
       "      <td>6494</td>\n",
       "      <td>2.230053156929417</td>\n",
       "      <td>1.4056396250000003</td>\n",
       "      <td>1.2856735031702702</td>\n",
       "      <td>1.4055063887031396</td>\n",
       "      <td>[{'contract_address': '0xa7d8d9ef8d8ce8992df33...</td>\n",
       "    </tr>\n",
       "    <tr>\n",
       "      <th>2</th>\n",
       "      <td>mutant-ape-yacht-club</td>\n",
       "      <td>Mutant Ape Yacht Club</td>\n",
       "      <td>The MUTANT APE YACHT CLUB is a collection of u...</td>\n",
       "      <td>2022-12-16T18:37:04.326Z</td>\n",
       "      <td>472543.09042573586</td>\n",
       "      <td>253.24149999999997</td>\n",
       "      <td>2080.740743833333</td>\n",
       "      <td>7981.13116158333</td>\n",
       "      <td>36148</td>\n",
       "      <td>18</td>\n",
       "      <td>135</td>\n",
       "      <td>556</td>\n",
       "      <td>13.07245464273918</td>\n",
       "      <td>14.068972222222222</td>\n",
       "      <td>15.41289439876543</td>\n",
       "      <td>14.354552448890882</td>\n",
       "      <td>[{'contract_address': '0x60e4d786628fea6478f78...</td>\n",
       "    </tr>\n",
       "    <tr>\n",
       "      <th>3</th>\n",
       "      <td>cryptopunks</td>\n",
       "      <td>CryptoPunks</td>\n",
       "      <td>CryptoPunks launched as a fixed set of 10,000 ...</td>\n",
       "      <td>2022-12-16T18:23:46.929Z</td>\n",
       "      <td>1075395.297009338</td>\n",
       "      <td>162.9</td>\n",
       "      <td>2045.7800000000002</td>\n",
       "      <td>13082.000000000002</td>\n",
       "      <td>22055</td>\n",
       "      <td>2</td>\n",
       "      <td>31</td>\n",
       "      <td>194</td>\n",
       "      <td>48.75970514664874</td>\n",
       "      <td>81.45</td>\n",
       "      <td>65.99290322580646</td>\n",
       "      <td>67.43298969072166</td>\n",
       "      <td>[{'contract_address': '0xb47e3cd837ddf8e4c57f0...</td>\n",
       "    </tr>\n",
       "    <tr>\n",
       "      <th>4</th>\n",
       "      <td>boredapeyachtclub</td>\n",
       "      <td>Bored Ape Yacht Club</td>\n",
       "      <td>The Bored Ape Yacht Club is a collection of 10...</td>\n",
       "      <td>2022-12-16T17:23:46.013Z</td>\n",
       "      <td>697584.0968490699</td>\n",
       "      <td>287.78</td>\n",
       "      <td>1836.93244832</td>\n",
       "      <td>10673.866214819995</td>\n",
       "      <td>27518</td>\n",
       "      <td>4</td>\n",
       "      <td>25</td>\n",
       "      <td>135</td>\n",
       "      <td>25.350101637076456</td>\n",
       "      <td>71.945</td>\n",
       "      <td>73.4772979328</td>\n",
       "      <td>79.06567566533329</td>\n",
       "      <td>[{'contract_address': '0xbc4ca0eda7647a8ab7c20...</td>\n",
       "    </tr>\n",
       "  </tbody>\n",
       "</table>\n",
       "</div>"
      ],
      "text/plain": [
       "                     key                   name  \\\n",
       "0               valhalla               Valhalla   \n",
       "1             art-blocks             Art Blocks   \n",
       "2  mutant-ape-yacht-club  Mutant Ape Yacht Club   \n",
       "3            cryptopunks            CryptoPunks   \n",
       "4      boredapeyachtclub   Bored Ape Yacht Club   \n",
       "\n",
       "                                         description  \\\n",
       "0  Valhalla is a crypto native brand for gamers. ...   \n",
       "1  Art Blocks is dedicated to bringing compelling...   \n",
       "2  The MUTANT APE YACHT CLUB is a collection of u...   \n",
       "3  CryptoPunks launched as a fixed set of 10,000 ...   \n",
       "4  The Bored Ape Yacht Club is a collection of 10...   \n",
       "\n",
       "                  update_at        total_volume      one_day_volume  \\\n",
       "0  2022-12-16T18:31:57.807Z  10527.495070783985   348.3021329999999   \n",
       "1  2022-12-15T19:49:23.602Z  463304.69361787103  281.12792500000006   \n",
       "2  2022-12-16T18:37:04.326Z  472543.09042573586  253.24149999999997   \n",
       "3  2022-12-16T18:23:46.929Z   1075395.297009338               162.9   \n",
       "4  2022-12-16T17:23:46.013Z   697584.0968490699              287.78   \n",
       "\n",
       "     seven_day_volume   thirty_day_volume total_sales one_day_sales  \\\n",
       "0  4174.1911596468235  10527.495070783962       11696           274   \n",
       "1   2136.789362268989    9127.35848823819      207755           200   \n",
       "2   2080.740743833333    7981.13116158333       36148            18   \n",
       "3  2045.7800000000002  13082.000000000002       22055             2   \n",
       "4       1836.93244832  10673.866214819995       27518             4   \n",
       "\n",
       "  seven_day_sales thirty_day_sales total_average_price one_day_average_price  \\\n",
       "0            3289            11696  0.9000936278030083    1.2711756678832113   \n",
       "1            1662             6494   2.230053156929417    1.4056396250000003   \n",
       "2             135              556   13.07245464273918    14.068972222222222   \n",
       "3              31              194   48.75970514664874                 81.45   \n",
       "4              25              135  25.350101637076456                71.945   \n",
       "\n",
       "  seven_day_average_price thirty_day_average_price  \\\n",
       "0       1.269136868241661       0.9000936278030063   \n",
       "1      1.2856735031702702       1.4055063887031396   \n",
       "2       15.41289439876543       14.354552448890882   \n",
       "3       65.99290322580646        67.43298969072166   \n",
       "4           73.4772979328        79.06567566533329   \n",
       "\n",
       "                                           contracts  \n",
       "0  [{'contract_address': '0x231d3559aa848bf10366f...  \n",
       "1  [{'contract_address': '0xa7d8d9ef8d8ce8992df33...  \n",
       "2  [{'contract_address': '0x60e4d786628fea6478f78...  \n",
       "3  [{'contract_address': '0xb47e3cd837ddf8e4c57f0...  \n",
       "4  [{'contract_address': '0xbc4ca0eda7647a8ab7c20...  "
      ]
     },
     "execution_count": 35,
     "metadata": {},
     "output_type": "execute_result"
    }
   ],
   "source": [
    "nft_df = pd.DataFrame(response['results'])\n",
    "nft_df.head()"
   ]
  },
  {
   "cell_type": "markdown",
   "id": "0d9a4cd5-2291-4aed-9fc7-deee8f9f19fd",
   "metadata": {},
   "source": [
    "## Setting the target for ML"
   ]
  },
  {
   "cell_type": "markdown",
   "id": "fd84d443-45c8-4a70-aab8-0faf34c1f918",
   "metadata": {},
   "source": [
    "Calculating if the NFT price increases or decreases"
   ]
  },
  {
   "cell_type": "code",
   "execution_count": 36,
   "id": "60dae69e-fc28-4bb9-a010-812cb093974e",
   "metadata": {},
   "outputs": [
    {
     "data": {
      "text/html": [
       "<div>\n",
       "<style scoped>\n",
       "    .dataframe tbody tr th:only-of-type {\n",
       "        vertical-align: middle;\n",
       "    }\n",
       "\n",
       "    .dataframe tbody tr th {\n",
       "        vertical-align: top;\n",
       "    }\n",
       "\n",
       "    .dataframe thead th {\n",
       "        text-align: right;\n",
       "    }\n",
       "</style>\n",
       "<table border=\"1\" class=\"dataframe\">\n",
       "  <thead>\n",
       "    <tr style=\"text-align: right;\">\n",
       "      <th></th>\n",
       "      <th>key</th>\n",
       "      <th>name</th>\n",
       "      <th>description</th>\n",
       "      <th>update_at</th>\n",
       "      <th>total_volume</th>\n",
       "      <th>one_day_volume</th>\n",
       "      <th>seven_day_volume</th>\n",
       "      <th>thirty_day_volume</th>\n",
       "      <th>total_sales</th>\n",
       "      <th>one_day_sales</th>\n",
       "      <th>seven_day_sales</th>\n",
       "      <th>thirty_day_sales</th>\n",
       "      <th>total_average_price</th>\n",
       "      <th>one_day_average_price</th>\n",
       "      <th>seven_day_average_price</th>\n",
       "      <th>thirty_day_average_price</th>\n",
       "      <th>contracts</th>\n",
       "      <th>change</th>\n",
       "    </tr>\n",
       "  </thead>\n",
       "  <tbody>\n",
       "    <tr>\n",
       "      <th>0</th>\n",
       "      <td>valhalla</td>\n",
       "      <td>Valhalla</td>\n",
       "      <td>Valhalla is a crypto native brand for gamers. ...</td>\n",
       "      <td>2022-12-16T18:31:57.807Z</td>\n",
       "      <td>10527.495070783985</td>\n",
       "      <td>348.3021329999999</td>\n",
       "      <td>4174.1911596468235</td>\n",
       "      <td>10527.495070783962</td>\n",
       "      <td>11696</td>\n",
       "      <td>274</td>\n",
       "      <td>3289</td>\n",
       "      <td>11696</td>\n",
       "      <td>0.9000936278030083</td>\n",
       "      <td>1.2711756678832113</td>\n",
       "      <td>1.269136868241661</td>\n",
       "      <td>0.9000936278030063</td>\n",
       "      <td>[{'contract_address': '0x231d3559aa848bf10366f...</td>\n",
       "      <td>0.002039</td>\n",
       "    </tr>\n",
       "    <tr>\n",
       "      <th>1</th>\n",
       "      <td>art-blocks</td>\n",
       "      <td>Art Blocks</td>\n",
       "      <td>Art Blocks is dedicated to bringing compelling...</td>\n",
       "      <td>2022-12-15T19:49:23.602Z</td>\n",
       "      <td>463304.69361787103</td>\n",
       "      <td>281.12792500000006</td>\n",
       "      <td>2136.789362268989</td>\n",
       "      <td>9127.35848823819</td>\n",
       "      <td>207755</td>\n",
       "      <td>200</td>\n",
       "      <td>1662</td>\n",
       "      <td>6494</td>\n",
       "      <td>2.230053156929417</td>\n",
       "      <td>1.4056396250000003</td>\n",
       "      <td>1.2856735031702702</td>\n",
       "      <td>1.4055063887031396</td>\n",
       "      <td>[{'contract_address': '0xa7d8d9ef8d8ce8992df33...</td>\n",
       "      <td>0.119966</td>\n",
       "    </tr>\n",
       "    <tr>\n",
       "      <th>2</th>\n",
       "      <td>mutant-ape-yacht-club</td>\n",
       "      <td>Mutant Ape Yacht Club</td>\n",
       "      <td>The MUTANT APE YACHT CLUB is a collection of u...</td>\n",
       "      <td>2022-12-16T18:37:04.326Z</td>\n",
       "      <td>472543.09042573586</td>\n",
       "      <td>253.24149999999997</td>\n",
       "      <td>2080.740743833333</td>\n",
       "      <td>7981.13116158333</td>\n",
       "      <td>36148</td>\n",
       "      <td>18</td>\n",
       "      <td>135</td>\n",
       "      <td>556</td>\n",
       "      <td>13.07245464273918</td>\n",
       "      <td>14.068972222222222</td>\n",
       "      <td>15.41289439876543</td>\n",
       "      <td>14.354552448890882</td>\n",
       "      <td>[{'contract_address': '0x60e4d786628fea6478f78...</td>\n",
       "      <td>-1.343922</td>\n",
       "    </tr>\n",
       "    <tr>\n",
       "      <th>3</th>\n",
       "      <td>cryptopunks</td>\n",
       "      <td>CryptoPunks</td>\n",
       "      <td>CryptoPunks launched as a fixed set of 10,000 ...</td>\n",
       "      <td>2022-12-16T18:23:46.929Z</td>\n",
       "      <td>1075395.297009338</td>\n",
       "      <td>162.9</td>\n",
       "      <td>2045.7800000000002</td>\n",
       "      <td>13082.000000000002</td>\n",
       "      <td>22055</td>\n",
       "      <td>2</td>\n",
       "      <td>31</td>\n",
       "      <td>194</td>\n",
       "      <td>48.75970514664874</td>\n",
       "      <td>81.45</td>\n",
       "      <td>65.99290322580646</td>\n",
       "      <td>67.43298969072166</td>\n",
       "      <td>[{'contract_address': '0xb47e3cd837ddf8e4c57f0...</td>\n",
       "      <td>15.457097</td>\n",
       "    </tr>\n",
       "    <tr>\n",
       "      <th>4</th>\n",
       "      <td>boredapeyachtclub</td>\n",
       "      <td>Bored Ape Yacht Club</td>\n",
       "      <td>The Bored Ape Yacht Club is a collection of 10...</td>\n",
       "      <td>2022-12-16T17:23:46.013Z</td>\n",
       "      <td>697584.0968490699</td>\n",
       "      <td>287.78</td>\n",
       "      <td>1836.93244832</td>\n",
       "      <td>10673.866214819995</td>\n",
       "      <td>27518</td>\n",
       "      <td>4</td>\n",
       "      <td>25</td>\n",
       "      <td>135</td>\n",
       "      <td>25.350101637076456</td>\n",
       "      <td>71.945</td>\n",
       "      <td>73.4772979328</td>\n",
       "      <td>79.06567566533329</td>\n",
       "      <td>[{'contract_address': '0xbc4ca0eda7647a8ab7c20...</td>\n",
       "      <td>-1.532298</td>\n",
       "    </tr>\n",
       "  </tbody>\n",
       "</table>\n",
       "</div>"
      ],
      "text/plain": [
       "                     key                   name  \\\n",
       "0               valhalla               Valhalla   \n",
       "1             art-blocks             Art Blocks   \n",
       "2  mutant-ape-yacht-club  Mutant Ape Yacht Club   \n",
       "3            cryptopunks            CryptoPunks   \n",
       "4      boredapeyachtclub   Bored Ape Yacht Club   \n",
       "\n",
       "                                         description  \\\n",
       "0  Valhalla is a crypto native brand for gamers. ...   \n",
       "1  Art Blocks is dedicated to bringing compelling...   \n",
       "2  The MUTANT APE YACHT CLUB is a collection of u...   \n",
       "3  CryptoPunks launched as a fixed set of 10,000 ...   \n",
       "4  The Bored Ape Yacht Club is a collection of 10...   \n",
       "\n",
       "                  update_at        total_volume      one_day_volume  \\\n",
       "0  2022-12-16T18:31:57.807Z  10527.495070783985   348.3021329999999   \n",
       "1  2022-12-15T19:49:23.602Z  463304.69361787103  281.12792500000006   \n",
       "2  2022-12-16T18:37:04.326Z  472543.09042573586  253.24149999999997   \n",
       "3  2022-12-16T18:23:46.929Z   1075395.297009338               162.9   \n",
       "4  2022-12-16T17:23:46.013Z   697584.0968490699              287.78   \n",
       "\n",
       "     seven_day_volume   thirty_day_volume total_sales one_day_sales  \\\n",
       "0  4174.1911596468235  10527.495070783962       11696           274   \n",
       "1   2136.789362268989    9127.35848823819      207755           200   \n",
       "2   2080.740743833333    7981.13116158333       36148            18   \n",
       "3  2045.7800000000002  13082.000000000002       22055             2   \n",
       "4       1836.93244832  10673.866214819995       27518             4   \n",
       "\n",
       "  seven_day_sales thirty_day_sales total_average_price one_day_average_price  \\\n",
       "0            3289            11696  0.9000936278030083    1.2711756678832113   \n",
       "1            1662             6494   2.230053156929417    1.4056396250000003   \n",
       "2             135              556   13.07245464273918    14.068972222222222   \n",
       "3              31              194   48.75970514664874                 81.45   \n",
       "4              25              135  25.350101637076456                71.945   \n",
       "\n",
       "  seven_day_average_price thirty_day_average_price  \\\n",
       "0       1.269136868241661       0.9000936278030063   \n",
       "1      1.2856735031702702       1.4055063887031396   \n",
       "2       15.41289439876543       14.354552448890882   \n",
       "3       65.99290322580646        67.43298969072166   \n",
       "4           73.4772979328        79.06567566533329   \n",
       "\n",
       "                                           contracts     change  \n",
       "0  [{'contract_address': '0x231d3559aa848bf10366f...   0.002039  \n",
       "1  [{'contract_address': '0xa7d8d9ef8d8ce8992df33...   0.119966  \n",
       "2  [{'contract_address': '0x60e4d786628fea6478f78...  -1.343922  \n",
       "3  [{'contract_address': '0xb47e3cd837ddf8e4c57f0...  15.457097  \n",
       "4  [{'contract_address': '0xbc4ca0eda7647a8ab7c20...  -1.532298  "
      ]
     },
     "execution_count": 36,
     "metadata": {},
     "output_type": "execute_result"
    }
   ],
   "source": [
    "nft_df['change'] = nft_df['one_day_average_price'].astype(float) - nft_df['seven_day_average_price'].astype(float)\n",
    "nft_df.head()\n",
    "#If positive, then stock increased\n",
    "#If negative, stock fell"
   ]
  },
  {
   "cell_type": "code",
   "execution_count": 37,
   "id": "d6bd950f-7a5b-46cf-b2fb-a15f9a9678a8",
   "metadata": {},
   "outputs": [],
   "source": [
    "nft_df = nft_df"
   ]
  },
  {
   "cell_type": "markdown",
   "id": "cd49a676-797b-4ec7-9e4e-f675c780ef47",
   "metadata": {},
   "source": [
    "Cleaning up the dataframe. Dropping unesessary columns and assigning NFTs that increased in price a 1 and NFTS that fell in price a 0 in the 'target' column. "
   ]
  },
  {
   "cell_type": "code",
   "execution_count": 38,
   "id": "b140a42c-ace2-46b5-b879-d3cfbfb731b0",
   "metadata": {},
   "outputs": [],
   "source": [
    "nft_df['target'] = nft_df['change'].apply(lambda x: 0 if x <= 0 else 1)"
   ]
  },
  {
   "cell_type": "code",
   "execution_count": 39,
   "id": "11e09a84-298d-404a-a144-7fcbdc594542",
   "metadata": {},
   "outputs": [
    {
     "data": {
      "text/html": [
       "<div>\n",
       "<style scoped>\n",
       "    .dataframe tbody tr th:only-of-type {\n",
       "        vertical-align: middle;\n",
       "    }\n",
       "\n",
       "    .dataframe tbody tr th {\n",
       "        vertical-align: top;\n",
       "    }\n",
       "\n",
       "    .dataframe thead th {\n",
       "        text-align: right;\n",
       "    }\n",
       "</style>\n",
       "<table border=\"1\" class=\"dataframe\">\n",
       "  <thead>\n",
       "    <tr style=\"text-align: right;\">\n",
       "      <th></th>\n",
       "      <th>one_day_average_price</th>\n",
       "      <th>seven_day_average_price</th>\n",
       "      <th>change</th>\n",
       "      <th>target</th>\n",
       "    </tr>\n",
       "  </thead>\n",
       "  <tbody>\n",
       "    <tr>\n",
       "      <th>0</th>\n",
       "      <td>1.2711756678832113</td>\n",
       "      <td>1.269136868241661</td>\n",
       "      <td>0.002039</td>\n",
       "      <td>1</td>\n",
       "    </tr>\n",
       "    <tr>\n",
       "      <th>1</th>\n",
       "      <td>1.4056396250000003</td>\n",
       "      <td>1.2856735031702702</td>\n",
       "      <td>0.119966</td>\n",
       "      <td>1</td>\n",
       "    </tr>\n",
       "    <tr>\n",
       "      <th>2</th>\n",
       "      <td>14.068972222222222</td>\n",
       "      <td>15.41289439876543</td>\n",
       "      <td>-1.343922</td>\n",
       "      <td>0</td>\n",
       "    </tr>\n",
       "    <tr>\n",
       "      <th>3</th>\n",
       "      <td>81.45</td>\n",
       "      <td>65.99290322580646</td>\n",
       "      <td>15.457097</td>\n",
       "      <td>1</td>\n",
       "    </tr>\n",
       "    <tr>\n",
       "      <th>4</th>\n",
       "      <td>71.945</td>\n",
       "      <td>73.4772979328</td>\n",
       "      <td>-1.532298</td>\n",
       "      <td>0</td>\n",
       "    </tr>\n",
       "  </tbody>\n",
       "</table>\n",
       "</div>"
      ],
      "text/plain": [
       "  one_day_average_price seven_day_average_price     change  target\n",
       "0    1.2711756678832113       1.269136868241661   0.002039       1\n",
       "1    1.4056396250000003      1.2856735031702702   0.119966       1\n",
       "2    14.068972222222222       15.41289439876543  -1.343922       0\n",
       "3                 81.45       65.99290322580646  15.457097       1\n",
       "4                71.945           73.4772979328  -1.532298       0"
      ]
     },
     "execution_count": 39,
     "metadata": {},
     "output_type": "execute_result"
    }
   ],
   "source": [
    "new_nft_df = nft_df.set_index('key')\n",
    "new_nft_df = nft_df.drop(columns=['update_at','name','description','contracts','key','total_volume','one_day_volume','seven_day_volume','thirty_day_volume','total_sales','one_day_sales','one_day_sales','seven_day_sales','thirty_day_sales','total_average_price','thirty_day_average_price'])\n",
    "new_nft_df.head()"
   ]
  },
  {
   "cell_type": "markdown",
   "id": "58d414e3-e8b4-4298-88bd-2e95b2bc408f",
   "metadata": {},
   "source": [
    "Visualizing the dataframe."
   ]
  },
  {
   "cell_type": "code",
   "execution_count": 40,
   "id": "e575a39e-d9ae-4774-864f-94de470a839a",
   "metadata": {},
   "outputs": [
    {
     "data": {
      "image/png": "[encoded data removed]",
      "text/plain": [
       "<Figure size 432x288 with 1 Axes>"
      ]
     },
     "metadata": {
      "needs_background": "light"
     },
     "output_type": "display_data"
    }
   ],
   "source": [
    "plt.scatter(\n",
    "    # Put the user download date along the x-axis\n",
    "    x = new_nft_df['one_day_average_price'],\n",
    "    # Put the user download location along the y-axis\n",
    "    y = new_nft_df['seven_day_average_price'],\n",
    "    # Plot the binary y variable (whether the user made a transaction) as the color\n",
    "    c=new_nft_df['target']\n",
    " )\n",
    "\n",
    "# Show the plot\n",
    "plt.show()"
   ]
  },
  {
   "cell_type": "markdown",
   "id": "b46176a7-0243-47a6-a3f8-ce992ac5afce",
   "metadata": {},
   "source": [
    "## Creating the supervised learning model."
   ]
  },
  {
   "cell_type": "code",
   "execution_count": 41,
   "id": "190b38f9-db95-47e2-b199-7bd0692f0d71",
   "metadata": {},
   "outputs": [],
   "source": [
    "# The y variable should focus on the target column\n",
    "y = new_nft_df['target'].astype(float)\n",
    "# The X variable should include all features except the target\n",
    "x = new_nft_df.drop(columns=['target']).astype(float)"
   ]
  },
  {
   "cell_type": "code",
   "execution_count": 42,
   "id": "28c2bc68-4f58-4032-8f24-948f8a1920a6",
   "metadata": {},
   "outputs": [],
   "source": [
    "X_train, X_test, y_train, y_test = train_test_split(x, y)"
   ]
  },
  {
   "cell_type": "code",
   "execution_count": 43,
   "id": "03665cdf-8304-49da-8fa7-4e2ad92c1d02",
   "metadata": {},
   "outputs": [],
   "source": [
    "#Scaling data sets\n",
    "scaler = StandardScaler()\n",
    "X_scaler = scaler.fit(X_train)\n",
    "#trans X train and test sets using scaler\n",
    "X_train = X_scaler.transform(X_train)\n",
    "X_test = X_scaler.transform(X_test)"
   ]
  },
  {
   "cell_type": "code",
   "execution_count": 44,
   "id": "8c03ab16-44b1-43fe-910b-a977f69d97d1",
   "metadata": {},
   "outputs": [
    {
     "data": {
      "text/plain": [
       "LogisticRegression(random_state=9)"
      ]
     },
     "execution_count": 44,
     "metadata": {},
     "output_type": "execute_result"
    }
   ],
   "source": [
    "# Declare a logistic regression model.\n",
    "# Apply a random_state of 9 to the model\n",
    "logistic_regression_model = LogisticRegression(random_state=9)\n",
    "logistic_regression_model"
   ]
  },
  {
   "cell_type": "code",
   "execution_count": 45,
   "id": "080e06d1-07d9-4002-874f-37031021e399",
   "metadata": {},
   "outputs": [],
   "source": [
    "# Fit and save the logistic regression model using the training data\n",
    "lr_model = logistic_regression_model.fit(X_train, y_train)"
   ]
  },
  {
   "cell_type": "code",
   "execution_count": 46,
   "id": "9bba7ba0-ef3e-409c-b23d-e7402922755c",
   "metadata": {},
   "outputs": [],
   "source": [
    "#Generate training predictions\n",
    "training_predictions = lr_model.predict(X_train)\n",
    "\n",
    "#Generate testing predictions\n",
    "testing_predictions = logistic_regression_model.predict(X_test)"
   ]
  },
  {
   "cell_type": "markdown",
   "id": "d9ab54af-657a-40bb-981e-71091a0f0519",
   "metadata": {},
   "source": [
    "## Creating the Confusion Matrix"
   ]
  },
  {
   "cell_type": "code",
   "execution_count": 47,
   "id": "abc53078-1443-4e97-a418-8cfbcaaec88d",
   "metadata": {},
   "outputs": [
    {
     "name": "stdout",
     "output_type": "stream",
     "text": [
      "[[48  0]\n",
      " [25  2]]\n"
     ]
    }
   ],
   "source": [
    "# Create and save the confustion matrix for the training data\n",
    "training_matrix = confusion_matrix(y_train, training_predictions)\n",
    "\n",
    "# Print the confusion matrix for the training data\n",
    "print(training_matrix)"
   ]
  },
  {
   "cell_type": "code",
   "execution_count": 48,
   "id": "0e70dc10-b46e-4385-a68c-473cdeb6e762",
   "metadata": {},
   "outputs": [
    {
     "name": "stdout",
     "output_type": "stream",
     "text": [
      "[[19  0]\n",
      " [ 6  0]]\n"
     ]
    }
   ],
   "source": [
    "# Create and save the confustion matrix for the testing data\n",
    "test_matrix = confusion_matrix(y_test, testing_predictions)\n",
    "\n",
    "# Print the confusion matrix for the testing data\n",
    "print(test_matrix)"
   ]
  },
  {
   "cell_type": "code",
   "execution_count": 49,
   "id": "14f03698-8ab1-4af6-a9ae-d59e1b1ecf1f",
   "metadata": {},
   "outputs": [
    {
     "name": "stdout",
     "output_type": "stream",
     "text": [
      "              precision    recall  f1-score   support\n",
      "\n",
      "         0.0       0.66      1.00      0.79        48\n",
      "         1.0       1.00      0.07      0.14        27\n",
      "\n",
      "    accuracy                           0.67        75\n",
      "   macro avg       0.83      0.54      0.47        75\n",
      "weighted avg       0.78      0.67      0.56        75\n",
      "\n"
     ]
    }
   ],
   "source": [
    "# Create and save the training classifiction report\n",
    "training_report = classification_report(y_train, training_predictions)\n",
    "\n",
    "# Print the training classification report\n",
    "print(training_report)"
   ]
  },
  {
   "cell_type": "code",
   "execution_count": 50,
   "id": "da72c40d-3a91-4bf3-9c02-010adc27f1e2",
   "metadata": {},
   "outputs": [
    {
     "name": "stdout",
     "output_type": "stream",
     "text": [
      "              precision    recall  f1-score   support\n",
      "\n",
      "         0.0       0.76      1.00      0.86        19\n",
      "         1.0       0.00      0.00      0.00         6\n",
      "\n",
      "    accuracy                           0.76        25\n",
      "   macro avg       0.38      0.50      0.43        25\n",
      "weighted avg       0.58      0.76      0.66        25\n",
      "\n"
     ]
    },
    {
     "name": "stderr",
     "output_type": "stream",
     "text": [
      "/Users/alexandrapaiz/opt/anaconda3/envs/dev/lib/python3.7/site-packages/sklearn/metrics/_classification.py:1318: UndefinedMetricWarning: Precision and F-score are ill-defined and being set to 0.0 in labels with no predicted samples. Use `zero_division` parameter to control this behavior.\n",
      "  _warn_prf(average, modifier, msg_start, len(result))\n",
      "/Users/alexandrapaiz/opt/anaconda3/envs/dev/lib/python3.7/site-packages/sklearn/metrics/_classification.py:1318: UndefinedMetricWarning: Precision and F-score are ill-defined and being set to 0.0 in labels with no predicted samples. Use `zero_division` parameter to control this behavior.\n",
      "  _warn_prf(average, modifier, msg_start, len(result))\n",
      "/Users/alexandrapaiz/opt/anaconda3/envs/dev/lib/python3.7/site-packages/sklearn/metrics/_classification.py:1318: UndefinedMetricWarning: Precision and F-score are ill-defined and being set to 0.0 in labels with no predicted samples. Use `zero_division` parameter to control this behavior.\n",
      "  _warn_prf(average, modifier, msg_start, len(result))\n"
     ]
    }
   ],
   "source": [
    "# Create and save the testing classifiction report\n",
    "testing_report = classification_report(y_test, testing_predictions)\n",
    "\n",
    "# Print the testing classification report\n",
    "print(testing_report)"
   ]
  },
  {
   "cell_type": "markdown",
   "id": "fed70f14-85ca-4dc0-a6f7-fbe6d17fcb5d",
   "metadata": {},
   "source": [
    "## Comparing predictions to the real data"
   ]
  },
  {
   "cell_type": "code",
   "execution_count": 51,
   "id": "7cfd5361-6bd3-4e53-95c1-0c3427c3eb5f",
   "metadata": {},
   "outputs": [],
   "source": [
    "target_only = new_nft_df['target']\n",
    "\n",
    "# Convert those predictions (and actual values) to a DataFrame\n",
    "results_df = pd.DataFrame({\"prediction\": testing_predictions.astype(int)})"
   ]
  },
  {
   "cell_type": "code",
   "execution_count": 52,
   "id": "a16438f2-a173-470a-8357-004f9aa15297",
   "metadata": {},
   "outputs": [],
   "source": [
    "outcome_df = pd.concat([new_nft_df, results_df], axis=1)\n",
    "outcome_df = outcome_df.dropna()"
   ]
  },
  {
   "cell_type": "code",
   "execution_count": 53,
   "id": "c371be75-82b8-4191-9e53-8fb1f4e99fbc",
   "metadata": {},
   "outputs": [
    {
     "data": {
      "text/html": [
       "<div>\n",
       "<style scoped>\n",
       "    .dataframe tbody tr th:only-of-type {\n",
       "        vertical-align: middle;\n",
       "    }\n",
       "\n",
       "    .dataframe tbody tr th {\n",
       "        vertical-align: top;\n",
       "    }\n",
       "\n",
       "    .dataframe thead th {\n",
       "        text-align: right;\n",
       "    }\n",
       "</style>\n",
       "<table border=\"1\" class=\"dataframe\">\n",
       "  <thead>\n",
       "    <tr style=\"text-align: right;\">\n",
       "      <th></th>\n",
       "      <th>one_day_average_price</th>\n",
       "      <th>seven_day_average_price</th>\n",
       "      <th>change</th>\n",
       "      <th>target</th>\n",
       "      <th>prediction</th>\n",
       "    </tr>\n",
       "  </thead>\n",
       "  <tbody>\n",
       "    <tr>\n",
       "      <th>0</th>\n",
       "      <td>1.2711756678832113</td>\n",
       "      <td>1.269136868241661</td>\n",
       "      <td>0.002039</td>\n",
       "      <td>1</td>\n",
       "      <td>0.0</td>\n",
       "    </tr>\n",
       "    <tr>\n",
       "      <th>1</th>\n",
       "      <td>1.4056396250000003</td>\n",
       "      <td>1.2856735031702702</td>\n",
       "      <td>0.119966</td>\n",
       "      <td>1</td>\n",
       "      <td>0.0</td>\n",
       "    </tr>\n",
       "    <tr>\n",
       "      <th>2</th>\n",
       "      <td>14.068972222222222</td>\n",
       "      <td>15.41289439876543</td>\n",
       "      <td>-1.343922</td>\n",
       "      <td>0</td>\n",
       "      <td>0.0</td>\n",
       "    </tr>\n",
       "    <tr>\n",
       "      <th>3</th>\n",
       "      <td>81.45</td>\n",
       "      <td>65.99290322580646</td>\n",
       "      <td>15.457097</td>\n",
       "      <td>1</td>\n",
       "      <td>0.0</td>\n",
       "    </tr>\n",
       "    <tr>\n",
       "      <th>4</th>\n",
       "      <td>71.945</td>\n",
       "      <td>73.4772979328</td>\n",
       "      <td>-1.532298</td>\n",
       "      <td>0</td>\n",
       "      <td>0.0</td>\n",
       "    </tr>\n",
       "  </tbody>\n",
       "</table>\n",
       "</div>"
      ],
      "text/plain": [
       "  one_day_average_price seven_day_average_price     change  target  prediction\n",
       "0    1.2711756678832113       1.269136868241661   0.002039       1         0.0\n",
       "1    1.4056396250000003      1.2856735031702702   0.119966       1         0.0\n",
       "2    14.068972222222222       15.41289439876543  -1.343922       0         0.0\n",
       "3                 81.45       65.99290322580646  15.457097       1         0.0\n",
       "4                71.945           73.4772979328  -1.532298       0         0.0"
      ]
     },
     "execution_count": 53,
     "metadata": {},
     "output_type": "execute_result"
    }
   ],
   "source": [
    "outcome_df.head()"
   ]
  },
  {
   "cell_type": "markdown",
   "id": "2800d2a5-9301-4910-b179-b21af977e8b4",
   "metadata": {},
   "source": [
    "## Conclusions"
   ]
  },
  {
   "cell_type": "markdown",
   "id": "12662550-4831-448d-9a59-efb4e7161a0f",
   "metadata": {},
   "source": [
    "The predictions resulting from the change in one day average price and seven day average price cannot accurately predict the trajectory of NFT price in this model. However, it was a good introduction and our team would like experiemnting with different variables/metrics in the future."
   ]
  }
 ],
 "metadata": {
  "kernelspec": {
   "display_name": "Python 3 (ipykernel)",
   "language": "python",
   "name": "python3"
  },
  "language_info": {
   "codemirror_mode": {
    "name": "ipython",
    "version": 3
   },
   "file_extension": ".py",
   "mimetype": "text/x-python",
   "name": "python",
   "nbconvert_exporter": "python",
   "pygments_lexer": "ipython3",
   "version": "3.7.13"
  }
 },
 "nbformat": 4,
 "nbformat_minor": 5
}
