{
 "cells": [
  {
   "cell_type": "code",
   "execution_count": 241,
   "id": "5699b1d0-b162-4124-bca8-e361211a210c",
   "metadata": {},
   "outputs": [],
   "source": [
    "import pandas as pd \n",
    "import os \n",
    "from dotenv import load_dotenv\n",
    "import requests \n",
    "import json \n",
    "from pathlib import Path\n",
    "from sklearn.model_selection import train_test_split\n",
    "import matplotlib.pyplot as plt\n",
    "from imblearn.metrics import classification_report_imbalanced\n",
    "from sklearn.metrics import accuracy_score, classification_report\n",
    "from sklearn.linear_model import LogisticRegression\n",
    "import numpy as np\n",
    "from sklearn.metrics import confusion_matrix\n",
    "from sklearn.preprocessing import StandardScaler"
   ]
  },
  {
   "cell_type": "code",
   "execution_count": 242,
   "id": "93cafec9-2a2f-478e-93a6-d7fded45ecf2",
   "metadata": {},
   "outputs": [
    {
     "data": {
      "text/plain": [
       "True"
      ]
     },
     "execution_count": 242,
     "metadata": {},
     "output_type": "execute_result"
    }
   ],
   "source": [
    "load_dotenv()"
   ]
  },
  {
   "cell_type": "code",
   "execution_count": 243,
   "id": "e75a5c24-45d5-4274-b67f-39f4e2b2fdfb",
   "metadata": {},
   "outputs": [],
   "source": [
    "api_key = os.getenv('BLOCKSPAN_API_KEY')"
   ]
  },
  {
   "cell_type": "code",
   "execution_count": 244,
   "id": "87288059-0121-4d11-847d-b6d0b83d349a",
   "metadata": {},
   "outputs": [],
   "source": [
    "url = \"https://api.blockspan.com/v1/exchanges/collectionsranking?chain=eth-main&exchange=opensea&ranking=seven_day_volume&page_size=100\"\n",
    "headers = {\n",
    "    \"accept\": \"application/json\",\n",
    "    \"X-API-KEY\": api_key\n",
    "}"
   ]
  },
  {
   "cell_type": "code",
   "execution_count": 245,
   "id": "886afb9a-4ccf-4db3-b00e-33db1e8f9e9d",
   "metadata": {},
   "outputs": [],
   "source": [
    "response = requests.get(url, headers=headers).json()\n",
    "#print(json.dumps(response, indent=4, sort_keys=True))"
   ]
  },
  {
   "cell_type": "code",
   "execution_count": 246,
   "id": "06e5677b-8791-42e2-ad47-7a07e6560a93",
   "metadata": {},
   "outputs": [
    {
     "data": {
      "text/html": [
       "<div>\n",
       "<style scoped>\n",
       "    .dataframe tbody tr th:only-of-type {\n",
       "        vertical-align: middle;\n",
       "    }\n",
       "\n",
       "    .dataframe tbody tr th {\n",
       "        vertical-align: top;\n",
       "    }\n",
       "\n",
       "    .dataframe thead th {\n",
       "        text-align: right;\n",
       "    }\n",
       "</style>\n",
       "<table border=\"1\" class=\"dataframe\">\n",
       "  <thead>\n",
       "    <tr style=\"text-align: right;\">\n",
       "      <th></th>\n",
       "      <th>key</th>\n",
       "      <th>name</th>\n",
       "      <th>description</th>\n",
       "      <th>update_at</th>\n",
       "      <th>total_volume</th>\n",
       "      <th>one_day_volume</th>\n",
       "      <th>seven_day_volume</th>\n",
       "      <th>thirty_day_volume</th>\n",
       "      <th>total_sales</th>\n",
       "      <th>one_day_sales</th>\n",
       "      <th>seven_day_sales</th>\n",
       "      <th>thirty_day_sales</th>\n",
       "      <th>total_average_price</th>\n",
       "      <th>one_day_average_price</th>\n",
       "      <th>seven_day_average_price</th>\n",
       "      <th>thirty_day_average_price</th>\n",
       "      <th>contracts</th>\n",
       "    </tr>\n",
       "  </thead>\n",
       "  <tbody>\n",
       "    <tr>\n",
       "      <th>0</th>\n",
       "      <td>valhalla</td>\n",
       "      <td>Valhalla</td>\n",
       "      <td>Valhalla is a crypto native brand for gamers. ...</td>\n",
       "      <td>2022-12-15T23:10:01.865Z</td>\n",
       "      <td>10239.45533778399</td>\n",
       "      <td>346.0350129899999</td>\n",
       "      <td>4076.5065266468223</td>\n",
       "      <td>10239.455337783958</td>\n",
       "      <td>11462</td>\n",
       "      <td>204</td>\n",
       "      <td>3298</td>\n",
       "      <td>11462</td>\n",
       "      <td>0.8933393245318434</td>\n",
       "      <td>1.6962500636764701</td>\n",
       "      <td>1.2360541317910316</td>\n",
       "      <td>0.8933393245318407</td>\n",
       "      <td>[{'contract_address': '0x231d3559aa848bf10366f...</td>\n",
       "    </tr>\n",
       "    <tr>\n",
       "      <th>1</th>\n",
       "      <td>art-blocks</td>\n",
       "      <td>Art Blocks</td>\n",
       "      <td>Art Blocks is dedicated to bringing compelling...</td>\n",
       "      <td>2022-12-15T19:49:23.602Z</td>\n",
       "      <td>463304.69361787103</td>\n",
       "      <td>281.12792500000006</td>\n",
       "      <td>2136.789362268989</td>\n",
       "      <td>9127.35848823819</td>\n",
       "      <td>207755</td>\n",
       "      <td>200</td>\n",
       "      <td>1662</td>\n",
       "      <td>6494</td>\n",
       "      <td>2.230053156929417</td>\n",
       "      <td>1.4056396250000003</td>\n",
       "      <td>1.2856735031702702</td>\n",
       "      <td>1.4055063887031396</td>\n",
       "      <td>[{'contract_address': '0xa7d8d9ef8d8ce8992df33...</td>\n",
       "    </tr>\n",
       "    <tr>\n",
       "      <th>2</th>\n",
       "      <td>cryptopunks</td>\n",
       "      <td>CryptoPunks</td>\n",
       "      <td>CryptoPunks launched as a fixed set of 10,000 ...</td>\n",
       "      <td>2022-12-15T21:42:01.591Z</td>\n",
       "      <td>1075232.3970093378</td>\n",
       "      <td>136.9</td>\n",
       "      <td>2008.7700000000002</td>\n",
       "      <td>13737.930000000004</td>\n",
       "      <td>22053</td>\n",
       "      <td>3</td>\n",
       "      <td>31</td>\n",
       "      <td>203</td>\n",
       "      <td>48.756740443900505</td>\n",
       "      <td>45.63333333333333</td>\n",
       "      <td>64.79903225806453</td>\n",
       "      <td>67.67453201970446</td>\n",
       "      <td>[{'contract_address': '0xb47e3cd837ddf8e4c57f0...</td>\n",
       "    </tr>\n",
       "    <tr>\n",
       "      <th>3</th>\n",
       "      <td>mutant-ape-yacht-club</td>\n",
       "      <td>Mutant Ape Yacht Club</td>\n",
       "      <td>The MUTANT APE YACHT CLUB is a collection of u...</td>\n",
       "      <td>2022-12-15T22:46:46.630Z</td>\n",
       "      <td>472283.55948862835</td>\n",
       "      <td>195.95708000000002</td>\n",
       "      <td>1971.5778538333332</td>\n",
       "      <td>8181.297815533331</td>\n",
       "      <td>36132</td>\n",
       "      <td>13</td>\n",
       "      <td>127</td>\n",
       "      <td>577</td>\n",
       "      <td>13.07106054158719</td>\n",
       "      <td>15.07362153846154</td>\n",
       "      <td>15.524235069553804</td>\n",
       "      <td>14.179025676834197</td>\n",
       "      <td>[{'contract_address': '0x60e4d786628fea6478f78...</td>\n",
       "    </tr>\n",
       "    <tr>\n",
       "      <th>4</th>\n",
       "      <td>boredapeyachtclub</td>\n",
       "      <td>Bored Ape Yacht Club</td>\n",
       "      <td>The Bored Ape Yacht Club is a collection of 10...</td>\n",
       "      <td>2022-12-15T23:14:27.848Z</td>\n",
       "      <td>697241.6911093168</td>\n",
       "      <td>352.69455104</td>\n",
       "      <td>1815.7271510399999</td>\n",
       "      <td>10882.586567539995</td>\n",
       "      <td>27515</td>\n",
       "      <td>5</td>\n",
       "      <td>25</td>\n",
       "      <td>139</td>\n",
       "      <td>25.34042126510328</td>\n",
       "      <td>70.538910208</td>\n",
       "      <td>72.62908604159999</td>\n",
       "      <td>78.29198969453233</td>\n",
       "      <td>[{'contract_address': '0xbc4ca0eda7647a8ab7c20...</td>\n",
       "    </tr>\n",
       "  </tbody>\n",
       "</table>\n",
       "</div>"
      ],
      "text/plain": [
       "                     key                   name  \\\n",
       "0               valhalla               Valhalla   \n",
       "1             art-blocks             Art Blocks   \n",
       "2            cryptopunks            CryptoPunks   \n",
       "3  mutant-ape-yacht-club  Mutant Ape Yacht Club   \n",
       "4      boredapeyachtclub   Bored Ape Yacht Club   \n",
       "\n",
       "                                         description  \\\n",
       "0  Valhalla is a crypto native brand for gamers. ...   \n",
       "1  Art Blocks is dedicated to bringing compelling...   \n",
       "2  CryptoPunks launched as a fixed set of 10,000 ...   \n",
       "3  The MUTANT APE YACHT CLUB is a collection of u...   \n",
       "4  The Bored Ape Yacht Club is a collection of 10...   \n",
       "\n",
       "                  update_at        total_volume      one_day_volume  \\\n",
       "0  2022-12-15T23:10:01.865Z   10239.45533778399   346.0350129899999   \n",
       "1  2022-12-15T19:49:23.602Z  463304.69361787103  281.12792500000006   \n",
       "2  2022-12-15T21:42:01.591Z  1075232.3970093378               136.9   \n",
       "3  2022-12-15T22:46:46.630Z  472283.55948862835  195.95708000000002   \n",
       "4  2022-12-15T23:14:27.848Z   697241.6911093168        352.69455104   \n",
       "\n",
       "     seven_day_volume   thirty_day_volume total_sales one_day_sales  \\\n",
       "0  4076.5065266468223  10239.455337783958       11462           204   \n",
       "1   2136.789362268989    9127.35848823819      207755           200   \n",
       "2  2008.7700000000002  13737.930000000004       22053             3   \n",
       "3  1971.5778538333332   8181.297815533331       36132            13   \n",
       "4  1815.7271510399999  10882.586567539995       27515             5   \n",
       "\n",
       "  seven_day_sales thirty_day_sales total_average_price one_day_average_price  \\\n",
       "0            3298            11462  0.8933393245318434    1.6962500636764701   \n",
       "1            1662             6494   2.230053156929417    1.4056396250000003   \n",
       "2              31              203  48.756740443900505     45.63333333333333   \n",
       "3             127              577   13.07106054158719     15.07362153846154   \n",
       "4              25              139   25.34042126510328          70.538910208   \n",
       "\n",
       "  seven_day_average_price thirty_day_average_price  \\\n",
       "0      1.2360541317910316       0.8933393245318407   \n",
       "1      1.2856735031702702       1.4055063887031396   \n",
       "2       64.79903225806453        67.67453201970446   \n",
       "3      15.524235069553804       14.179025676834197   \n",
       "4       72.62908604159999        78.29198969453233   \n",
       "\n",
       "                                           contracts  \n",
       "0  [{'contract_address': '0x231d3559aa848bf10366f...  \n",
       "1  [{'contract_address': '0xa7d8d9ef8d8ce8992df33...  \n",
       "2  [{'contract_address': '0xb47e3cd837ddf8e4c57f0...  \n",
       "3  [{'contract_address': '0x60e4d786628fea6478f78...  \n",
       "4  [{'contract_address': '0xbc4ca0eda7647a8ab7c20...  "
      ]
     },
     "execution_count": 246,
     "metadata": {},
     "output_type": "execute_result"
    }
   ],
   "source": [
    "nft_df = pd.DataFrame(response['results'])\n",
    "nft_df.head()"
   ]
  },
  {
   "cell_type": "code",
   "execution_count": 247,
   "id": "60dae69e-fc28-4bb9-a010-812cb093974e",
   "metadata": {},
   "outputs": [
    {
     "data": {
      "text/html": [
       "<div>\n",
       "<style scoped>\n",
       "    .dataframe tbody tr th:only-of-type {\n",
       "        vertical-align: middle;\n",
       "    }\n",
       "\n",
       "    .dataframe tbody tr th {\n",
       "        vertical-align: top;\n",
       "    }\n",
       "\n",
       "    .dataframe thead th {\n",
       "        text-align: right;\n",
       "    }\n",
       "</style>\n",
       "<table border=\"1\" class=\"dataframe\">\n",
       "  <thead>\n",
       "    <tr style=\"text-align: right;\">\n",
       "      <th></th>\n",
       "      <th>key</th>\n",
       "      <th>name</th>\n",
       "      <th>description</th>\n",
       "      <th>update_at</th>\n",
       "      <th>total_volume</th>\n",
       "      <th>one_day_volume</th>\n",
       "      <th>seven_day_volume</th>\n",
       "      <th>thirty_day_volume</th>\n",
       "      <th>total_sales</th>\n",
       "      <th>one_day_sales</th>\n",
       "      <th>seven_day_sales</th>\n",
       "      <th>thirty_day_sales</th>\n",
       "      <th>total_average_price</th>\n",
       "      <th>one_day_average_price</th>\n",
       "      <th>seven_day_average_price</th>\n",
       "      <th>thirty_day_average_price</th>\n",
       "      <th>contracts</th>\n",
       "      <th>change</th>\n",
       "    </tr>\n",
       "  </thead>\n",
       "  <tbody>\n",
       "    <tr>\n",
       "      <th>0</th>\n",
       "      <td>valhalla</td>\n",
       "      <td>Valhalla</td>\n",
       "      <td>Valhalla is a crypto native brand for gamers. ...</td>\n",
       "      <td>2022-12-15T23:10:01.865Z</td>\n",
       "      <td>10239.45533778399</td>\n",
       "      <td>346.0350129899999</td>\n",
       "      <td>4076.5065266468223</td>\n",
       "      <td>10239.455337783958</td>\n",
       "      <td>11462</td>\n",
       "      <td>204</td>\n",
       "      <td>3298</td>\n",
       "      <td>11462</td>\n",
       "      <td>0.8933393245318434</td>\n",
       "      <td>1.6962500636764701</td>\n",
       "      <td>1.2360541317910316</td>\n",
       "      <td>0.8933393245318407</td>\n",
       "      <td>[{'contract_address': '0x231d3559aa848bf10366f...</td>\n",
       "      <td>0.460196</td>\n",
       "    </tr>\n",
       "    <tr>\n",
       "      <th>1</th>\n",
       "      <td>art-blocks</td>\n",
       "      <td>Art Blocks</td>\n",
       "      <td>Art Blocks is dedicated to bringing compelling...</td>\n",
       "      <td>2022-12-15T19:49:23.602Z</td>\n",
       "      <td>463304.69361787103</td>\n",
       "      <td>281.12792500000006</td>\n",
       "      <td>2136.789362268989</td>\n",
       "      <td>9127.35848823819</td>\n",
       "      <td>207755</td>\n",
       "      <td>200</td>\n",
       "      <td>1662</td>\n",
       "      <td>6494</td>\n",
       "      <td>2.230053156929417</td>\n",
       "      <td>1.4056396250000003</td>\n",
       "      <td>1.2856735031702702</td>\n",
       "      <td>1.4055063887031396</td>\n",
       "      <td>[{'contract_address': '0xa7d8d9ef8d8ce8992df33...</td>\n",
       "      <td>0.119966</td>\n",
       "    </tr>\n",
       "    <tr>\n",
       "      <th>2</th>\n",
       "      <td>cryptopunks</td>\n",
       "      <td>CryptoPunks</td>\n",
       "      <td>CryptoPunks launched as a fixed set of 10,000 ...</td>\n",
       "      <td>2022-12-15T21:42:01.591Z</td>\n",
       "      <td>1075232.3970093378</td>\n",
       "      <td>136.9</td>\n",
       "      <td>2008.7700000000002</td>\n",
       "      <td>13737.930000000004</td>\n",
       "      <td>22053</td>\n",
       "      <td>3</td>\n",
       "      <td>31</td>\n",
       "      <td>203</td>\n",
       "      <td>48.756740443900505</td>\n",
       "      <td>45.63333333333333</td>\n",
       "      <td>64.79903225806453</td>\n",
       "      <td>67.67453201970446</td>\n",
       "      <td>[{'contract_address': '0xb47e3cd837ddf8e4c57f0...</td>\n",
       "      <td>-19.165699</td>\n",
       "    </tr>\n",
       "    <tr>\n",
       "      <th>3</th>\n",
       "      <td>mutant-ape-yacht-club</td>\n",
       "      <td>Mutant Ape Yacht Club</td>\n",
       "      <td>The MUTANT APE YACHT CLUB is a collection of u...</td>\n",
       "      <td>2022-12-15T22:46:46.630Z</td>\n",
       "      <td>472283.55948862835</td>\n",
       "      <td>195.95708000000002</td>\n",
       "      <td>1971.5778538333332</td>\n",
       "      <td>8181.297815533331</td>\n",
       "      <td>36132</td>\n",
       "      <td>13</td>\n",
       "      <td>127</td>\n",
       "      <td>577</td>\n",
       "      <td>13.07106054158719</td>\n",
       "      <td>15.07362153846154</td>\n",
       "      <td>15.524235069553804</td>\n",
       "      <td>14.179025676834197</td>\n",
       "      <td>[{'contract_address': '0x60e4d786628fea6478f78...</td>\n",
       "      <td>-0.450614</td>\n",
       "    </tr>\n",
       "    <tr>\n",
       "      <th>4</th>\n",
       "      <td>boredapeyachtclub</td>\n",
       "      <td>Bored Ape Yacht Club</td>\n",
       "      <td>The Bored Ape Yacht Club is a collection of 10...</td>\n",
       "      <td>2022-12-15T23:14:27.848Z</td>\n",
       "      <td>697241.6911093168</td>\n",
       "      <td>352.69455104</td>\n",
       "      <td>1815.7271510399999</td>\n",
       "      <td>10882.586567539995</td>\n",
       "      <td>27515</td>\n",
       "      <td>5</td>\n",
       "      <td>25</td>\n",
       "      <td>139</td>\n",
       "      <td>25.34042126510328</td>\n",
       "      <td>70.538910208</td>\n",
       "      <td>72.62908604159999</td>\n",
       "      <td>78.29198969453233</td>\n",
       "      <td>[{'contract_address': '0xbc4ca0eda7647a8ab7c20...</td>\n",
       "      <td>-2.090176</td>\n",
       "    </tr>\n",
       "  </tbody>\n",
       "</table>\n",
       "</div>"
      ],
      "text/plain": [
       "                     key                   name  \\\n",
       "0               valhalla               Valhalla   \n",
       "1             art-blocks             Art Blocks   \n",
       "2            cryptopunks            CryptoPunks   \n",
       "3  mutant-ape-yacht-club  Mutant Ape Yacht Club   \n",
       "4      boredapeyachtclub   Bored Ape Yacht Club   \n",
       "\n",
       "                                         description  \\\n",
       "0  Valhalla is a crypto native brand for gamers. ...   \n",
       "1  Art Blocks is dedicated to bringing compelling...   \n",
       "2  CryptoPunks launched as a fixed set of 10,000 ...   \n",
       "3  The MUTANT APE YACHT CLUB is a collection of u...   \n",
       "4  The Bored Ape Yacht Club is a collection of 10...   \n",
       "\n",
       "                  update_at        total_volume      one_day_volume  \\\n",
       "0  2022-12-15T23:10:01.865Z   10239.45533778399   346.0350129899999   \n",
       "1  2022-12-15T19:49:23.602Z  463304.69361787103  281.12792500000006   \n",
       "2  2022-12-15T21:42:01.591Z  1075232.3970093378               136.9   \n",
       "3  2022-12-15T22:46:46.630Z  472283.55948862835  195.95708000000002   \n",
       "4  2022-12-15T23:14:27.848Z   697241.6911093168        352.69455104   \n",
       "\n",
       "     seven_day_volume   thirty_day_volume total_sales one_day_sales  \\\n",
       "0  4076.5065266468223  10239.455337783958       11462           204   \n",
       "1   2136.789362268989    9127.35848823819      207755           200   \n",
       "2  2008.7700000000002  13737.930000000004       22053             3   \n",
       "3  1971.5778538333332   8181.297815533331       36132            13   \n",
       "4  1815.7271510399999  10882.586567539995       27515             5   \n",
       "\n",
       "  seven_day_sales thirty_day_sales total_average_price one_day_average_price  \\\n",
       "0            3298            11462  0.8933393245318434    1.6962500636764701   \n",
       "1            1662             6494   2.230053156929417    1.4056396250000003   \n",
       "2              31              203  48.756740443900505     45.63333333333333   \n",
       "3             127              577   13.07106054158719     15.07362153846154   \n",
       "4              25              139   25.34042126510328          70.538910208   \n",
       "\n",
       "  seven_day_average_price thirty_day_average_price  \\\n",
       "0      1.2360541317910316       0.8933393245318407   \n",
       "1      1.2856735031702702       1.4055063887031396   \n",
       "2       64.79903225806453        67.67453201970446   \n",
       "3      15.524235069553804       14.179025676834197   \n",
       "4       72.62908604159999        78.29198969453233   \n",
       "\n",
       "                                           contracts     change  \n",
       "0  [{'contract_address': '0x231d3559aa848bf10366f...   0.460196  \n",
       "1  [{'contract_address': '0xa7d8d9ef8d8ce8992df33...   0.119966  \n",
       "2  [{'contract_address': '0xb47e3cd837ddf8e4c57f0... -19.165699  \n",
       "3  [{'contract_address': '0x60e4d786628fea6478f78...  -0.450614  \n",
       "4  [{'contract_address': '0xbc4ca0eda7647a8ab7c20...  -2.090176  "
      ]
     },
     "execution_count": 247,
     "metadata": {},
     "output_type": "execute_result"
    }
   ],
   "source": [
    "nft_df['change'] = nft_df['one_day_average_price'].astype(float) - nft_df['seven_day_average_price'].astype(float)\n",
    "nft_df.head()\n",
    "#If positive, then stock increased\n",
    "#If negative, stock fell"
   ]
  },
  {
   "cell_type": "code",
   "execution_count": 248,
   "id": "d6bd950f-7a5b-46cf-b2fb-a15f9a9678a8",
   "metadata": {},
   "outputs": [],
   "source": [
    "nft_df = nft_df"
   ]
  },
  {
   "cell_type": "code",
   "execution_count": 249,
   "id": "b140a42c-ace2-46b5-b879-d3cfbfb731b0",
   "metadata": {},
   "outputs": [],
   "source": [
    "nft_df['target'] = nft_df['change'].apply(lambda x: 0 if x <= 0 else 1)\n"
   ]
  },
  {
   "cell_type": "code",
   "execution_count": 250,
   "id": "11e09a84-298d-404a-a144-7fcbdc594542",
   "metadata": {},
   "outputs": [],
   "source": [
    "new_nft_df = nft_df.set_index('key')\n",
    "new_nft_df = nft_df.drop(columns=['update_at','name','description','contracts','key'])"
   ]
  },
  {
   "cell_type": "code",
   "execution_count": 251,
   "id": "190b38f9-db95-47e2-b199-7bd0692f0d71",
   "metadata": {},
   "outputs": [],
   "source": [
    "# The y variable should focus on the target column\n",
    "y = new_nft_df['target'].astype(float)\n",
    "\n",
    "# The X variable should include all features except the target\n",
    "x = new_nft_df.drop(columns=['target']).astype(float)\n",
    "\n"
   ]
  },
  {
   "cell_type": "code",
   "execution_count": 252,
   "id": "28c2bc68-4f58-4032-8f24-948f8a1920a6",
   "metadata": {},
   "outputs": [],
   "source": [
    "X_train, X_test, y_train, y_test = train_test_split(x, y)"
   ]
  },
  {
   "cell_type": "code",
   "execution_count": 253,
   "id": "03665cdf-8304-49da-8fa7-4e2ad92c1d02",
   "metadata": {},
   "outputs": [],
   "source": [
    "#Scaling data sets\n",
    "scaler = StandardScaler()\n",
    "X_scaler = scaler.fit(X_train)\n",
    "#trans X train and test sets using scaler\n",
    "X_train = X_scaler.transform(X_train)\n",
    "X_test = X_scaler.transform(X_test)"
   ]
  },
  {
   "cell_type": "code",
   "execution_count": 254,
   "id": "8c03ab16-44b1-43fe-910b-a977f69d97d1",
   "metadata": {},
   "outputs": [
    {
     "data": {
      "text/plain": [
       "LogisticRegression(random_state=9)"
      ]
     },
     "execution_count": 254,
     "metadata": {},
     "output_type": "execute_result"
    }
   ],
   "source": [
    "# Declare a logistic regression model.\n",
    "# Apply a random_state of 9 to the model\n",
    "logistic_regression_model = LogisticRegression(random_state=9)\n",
    "logistic_regression_model"
   ]
  },
  {
   "cell_type": "code",
   "execution_count": 255,
   "id": "080e06d1-07d9-4002-874f-37031021e399",
   "metadata": {},
   "outputs": [
    {
     "name": "stderr",
     "output_type": "stream",
     "text": [
      "/Users/alexandrapaiz/opt/anaconda3/envs/dev/lib/python3.7/site-packages/sklearn/linear_model/_logistic.py:818: ConvergenceWarning: lbfgs failed to converge (status=1):\n",
      "STOP: TOTAL NO. of ITERATIONS REACHED LIMIT.\n",
      "\n",
      "Increase the number of iterations (max_iter) or scale the data as shown in:\n",
      "    https://scikit-learn.org/stable/modules/preprocessing.html\n",
      "Please also refer to the documentation for alternative solver options:\n",
      "    https://scikit-learn.org/stable/modules/linear_model.html#logistic-regression\n",
      "  extra_warning_msg=_LOGISTIC_SOLVER_CONVERGENCE_MSG,\n"
     ]
    }
   ],
   "source": [
    "# Fit and save the logistic regression model using the training data\n",
    "lr_model = logistic_regression_model.fit(x_train, y_train)"
   ]
  },
  {
   "cell_type": "code",
   "execution_count": 256,
   "id": "9bba7ba0-ef3e-409c-b23d-e7402922755c",
   "metadata": {},
   "outputs": [
    {
     "name": "stderr",
     "output_type": "stream",
     "text": [
      "/Users/alexandrapaiz/opt/anaconda3/envs/dev/lib/python3.7/site-packages/sklearn/base.py:451: UserWarning: X does not have valid feature names, but LogisticRegression was fitted with feature names\n",
      "  \"X does not have valid feature names, but\"\n",
      "/Users/alexandrapaiz/opt/anaconda3/envs/dev/lib/python3.7/site-packages/sklearn/base.py:451: UserWarning: X does not have valid feature names, but LogisticRegression was fitted with feature names\n",
      "  \"X does not have valid feature names, but\"\n"
     ]
    }
   ],
   "source": [
    "#Generate training predictions\n",
    "training_predictions = lr_model.predict(X_train)\n",
    "\n",
    "#Generate testing predictions\n",
    "testing_predictions = logistic_regression_model.predict(X_test)"
   ]
  },
  {
   "cell_type": "code",
   "execution_count": 257,
   "id": "abc53078-1443-4e97-a418-8cfbcaaec88d",
   "metadata": {},
   "outputs": [
    {
     "name": "stdout",
     "output_type": "stream",
     "text": [
      "[[12 36]\n",
      " [10 17]]\n"
     ]
    }
   ],
   "source": [
    "# Create and save the confustion matrix for the training data\n",
    "training_matrix = confusion_matrix(y_train, training_predictions)\n",
    "\n",
    "# Print the confusion matrix for the training data\n",
    "print(training_matrix)"
   ]
  },
  {
   "cell_type": "code",
   "execution_count": 258,
   "id": "0e70dc10-b46e-4385-a68c-473cdeb6e762",
   "metadata": {},
   "outputs": [
    {
     "name": "stdout",
     "output_type": "stream",
     "text": [
      "[[ 3 14]\n",
      " [ 4  4]]\n"
     ]
    }
   ],
   "source": [
    "# Create and save the confustion matrix for the testing data\n",
    "test_matrix = confusion_matrix(y_test, testing_predictions)\n",
    "\n",
    "# Print the confusion matrix for the testing data\n",
    "print(test_matrix)"
   ]
  },
  {
   "cell_type": "code",
   "execution_count": 259,
   "id": "14f03698-8ab1-4af6-a9ae-d59e1b1ecf1f",
   "metadata": {},
   "outputs": [
    {
     "name": "stdout",
     "output_type": "stream",
     "text": [
      "              precision    recall  f1-score   support\n",
      "\n",
      "         0.0       0.55      0.25      0.34        48\n",
      "         1.0       0.32      0.63      0.42        27\n",
      "\n",
      "    accuracy                           0.39        75\n",
      "   macro avg       0.43      0.44      0.38        75\n",
      "weighted avg       0.46      0.39      0.37        75\n",
      "\n"
     ]
    }
   ],
   "source": [
    "# Create and save the training classifiction report\n",
    "training_report = classification_report(y_train, training_predictions)\n",
    "\n",
    "# Print the training classification report\n",
    "print(training_report)"
   ]
  },
  {
   "cell_type": "code",
   "execution_count": 260,
   "id": "da72c40d-3a91-4bf3-9c02-010adc27f1e2",
   "metadata": {},
   "outputs": [
    {
     "name": "stdout",
     "output_type": "stream",
     "text": [
      "              precision    recall  f1-score   support\n",
      "\n",
      "         0.0       0.43      0.18      0.25        17\n",
      "         1.0       0.22      0.50      0.31         8\n",
      "\n",
      "    accuracy                           0.28        25\n",
      "   macro avg       0.33      0.34      0.28        25\n",
      "weighted avg       0.36      0.28      0.27        25\n",
      "\n"
     ]
    }
   ],
   "source": [
    "# Create and save the testing classifiction report\n",
    "testing_report = classification_report(y_test, testing_predictions)\n",
    "\n",
    "# Print the testing classification report\n",
    "print(testing_report)"
   ]
  }
 ],
 "metadata": {
  "kernelspec": {
   "display_name": "Python 3 (ipykernel)",
   "language": "python",
   "name": "python3"
  },
  "language_info": {
   "codemirror_mode": {
    "name": "ipython",
    "version": 3
   },
   "file_extension": ".py",
   "mimetype": "text/x-python",
   "name": "python",
   "nbconvert_exporter": "python",
   "pygments_lexer": "ipython3",
   "version": "3.7.13"
  }
 },
 "nbformat": 4,
 "nbformat_minor": 5
}
