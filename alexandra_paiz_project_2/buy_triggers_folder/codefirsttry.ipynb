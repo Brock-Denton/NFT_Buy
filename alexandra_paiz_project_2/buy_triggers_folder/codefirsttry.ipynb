{
 "cells": [
  {
   "cell_type": "code",
   "execution_count": 5,
   "id": "fe96677e-a93b-41c1-beec-3d17ca7b8d0d",
   "metadata": {},
   "outputs": [],
   "source": [
    "import pandas as pd \n",
    "import os \n",
    "from dotenv import load_dotenv\n",
    "import requests \n",
    "import json "
   ]
  },
  {
   "cell_type": "code",
   "execution_count": 6,
   "id": "51cc1b9e-4f9d-4d18-9a18-163a5a72f4d3",
   "metadata": {},
   "outputs": [
    {
     "name": "stderr",
     "output_type": "stream",
     "text": [
      "Python-dotenv could not parse statement starting at line 2\n",
      "Python-dotenv could not parse statement starting at line 4\n",
      "Python-dotenv could not parse statement starting at line 5\n",
      "Python-dotenv could not parse statement starting at line 6\n",
      "Python-dotenv could not parse statement starting at line 7\n",
      "Python-dotenv could not parse statement starting at line 8\n",
      "Python-dotenv could not parse statement starting at line 9\n",
      "Python-dotenv could not parse statement starting at line 14\n",
      "Python-dotenv could not parse statement starting at line 15\n",
      "Python-dotenv could not parse statement starting at line 16\n",
      "Python-dotenv could not parse statement starting at line 17\n",
      "Python-dotenv could not parse statement starting at line 18\n",
      "Python-dotenv could not parse statement starting at line 20\n",
      "Python-dotenv could not parse statement starting at line 21\n",
      "Python-dotenv could not parse statement starting at line 22\n",
      "Python-dotenv could not parse statement starting at line 23\n",
      "Python-dotenv could not parse statement starting at line 25\n",
      "Python-dotenv could not parse statement starting at line 26\n",
      "Python-dotenv could not parse statement starting at line 27\n",
      "Python-dotenv could not parse statement starting at line 28\n",
      "Python-dotenv could not parse statement starting at line 29\n",
      "Python-dotenv could not parse statement starting at line 30\n",
      "Python-dotenv could not parse statement starting at line 33\n",
      "Python-dotenv could not parse statement starting at line 34\n"
     ]
    }
   ],
   "source": [
    "load_dotenv()\n",
    "\n",
    "api_key = os.getenv(\"BLOCKSPAN_API_KEY\")\n",
    "\n",
    "url = \"https://api.blockspan.com/v1/exchanges/collectionsranking?chain=eth-main&exchange=opensea&ranking=seven_day_volume&page_size=25\"\n",
    "\n",
    "headers = {\n",
    "    \"accept\": \"application/json\",\n",
    "    \"X-API-KEY\": api_key\n",
    "}\n"
   ]
  },
  {
   "cell_type": "code",
   "execution_count": null,
   "id": "603f261f-5413-4997-9c62-4563b0d5e791",
   "metadata": {},
   "outputs": [],
   "source": [
    "response = requests.get(url, headers=headers).json()\n",
    "\n",
    "json_string = json.dumps(response)\n",
    "\n",
    "json_data = json.loads(json_string)\n"
   ]
  },
  {
   "cell_type": "code",
   "execution_count": null,
   "id": "3572dacb-498c-487b-b2ad-d07cd547be66",
   "metadata": {},
   "outputs": [],
   "source": [
    "for item in json_data['results']:\n",
    "\n",
    "    key = item.get('key')\n",
    "    contract_address = item['contracts'][0].get('contract_address')\n",
    "    one_day_sales = item.get('one_day_sales')\n",
    "    one_day_average_price = item.get('one_day_average_price')\n",
    "    one_day_volume = item.get('one_day_volume')\n",
    "    seven_day_average_price = item.get('seven_day_average_price')\n",
    "    seven_day_sales = item.get('seven_day_sales')\n",
    "    seven_day_volume = item.get('seven_day_volume')\n",
    "    total_volume = item.get('total_volume')"
   ]
  }
 ],
 "metadata": {
  "kernelspec": {
   "display_name": "Python 3 (ipykernel)",
   "language": "python",
   "name": "python3"
  },
  "language_info": {
   "codemirror_mode": {
    "name": "ipython",
    "version": 3
   },
   "file_extension": ".py",
   "mimetype": "text/x-python",
   "name": "python",
   "nbconvert_exporter": "python",
   "pygments_lexer": "ipython3",
   "version": "3.7.13"
  }
 },
 "nbformat": 4,
 "nbformat_minor": 5
}
